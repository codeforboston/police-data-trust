{
 "cells": [
  {
   "cell_type": "code",
   "execution_count": 1,
   "id": "f607fbd0",
   "metadata": {},
   "outputs": [],
   "source": [
    "from bs4 import BeautifulSoup as bs\n",
    "import requests\n",
    "import pandas as pd\n",
    "import os.path\n",
    "from zipfile import ZipFile\n",
    "import io"
   ]
  },
  {
   "cell_type": "code",
   "execution_count": 2,
   "id": "dbfec8f9",
   "metadata": {},
   "outputs": [],
   "source": [
    "url = 'https://measuresforjustice.org/portal/datasets'\n",
    "dataset_path = 'https://measuresforjustice.org'"
   ]
  },
  {
   "cell_type": "code",
   "execution_count": 3,
   "id": "2b067eaa",
   "metadata": {},
   "outputs": [],
   "source": [
    "page = requests.get(url)\n",
    "mfj_soup = bs(page.content, \"html.parser\")"
   ]
  },
  {
   "cell_type": "code",
   "execution_count": 4,
   "id": "d28f59f0",
   "metadata": {},
   "outputs": [
    {
     "data": {
      "text/plain": [
       "<li><section class=\"fileLink_wrapper__zkkvc\"><a aria-hidden=\"true\" class=\"fileLink_iconLink__aF5vv\" href=\"/api/datasets/Alabama_State_Data.zip\"><svg aria-hidden=\"true\" class=\"svg-inline--fa fa-file-archive fa-w-12 fa-2x\" data-icon=\"file-archive\" data-prefix=\"fal\" role=\"img\" viewbox=\"0 0 384 512\" xmlns=\"http://www.w3.org/2000/svg\"><path d=\"M128 96v32h32V96zm65.9 169.6c-1.1-5.6-6-9.6-11.8-9.6H160v-32h-32v32l-19.4 97.2c-6.5 32.5 18.3 62.8 51.4 62.8s57.9-30.3 51.4-62.8zm-33.6 124.5c-17.9 0-32.4-12.1-32.4-27s14.5-27 32.4-27 32.4 12.1 32.4 27-14.5 27-32.4 27zM128 160v32h32v-32zm64-96h-32v32h32zm177.9 33.9L286 14C277 5 264.8-.1 252.1-.1H48C21.5 0 0 21.5 0 48v416c0 26.5 21.5 48 48 48h288c26.5 0 48-21.5 48-48V131.9c0-12.7-5.1-25-14.1-34zM256 32.5c2.8.7 5.4 2.1 7.4 4.2l83.9 83.9c2 2 3.5 4.6 4.2 7.4H256zM352 464c0 8.8-7.2 16-16 16H48c-8.8 0-16-7.2-16-16V48c0-8.8 7.2-16 16-16h79.7v32h32V32H224v104c0 13.3 10.7 24 24 24h104zM192 192h-32v32h32zm0-64h-32v32h32z\" fill=\"currentColor\"></path></svg></a><div class=\"fileLink_flexWrapper___WkeB\"><h4><a href=\"/api/datasets/Alabama_State_Data.zip\">Alabama_State_Data.zip</a></h4><div>Alabama county level data </div></div></section></li>"
      ]
     },
     "execution_count": 4,
     "metadata": {},
     "output_type": "execute_result"
    }
   ],
   "source": [
    "results = list(mfj_soup.find('ul', {'class':'FileLinkList_list__fsh49'}))\n",
    "first_result = results[0]\n",
    "first_result"
   ]
  },
  {
   "cell_type": "code",
   "execution_count": 5,
   "id": "a0fd4c4d",
   "metadata": {},
   "outputs": [
    {
     "data": {
      "text/plain": [
       "'/api/datasets/Alabama_State_Data.zip'"
      ]
     },
     "execution_count": 5,
     "metadata": {},
     "output_type": "execute_result"
    }
   ],
   "source": [
    "str(first_result).split(\"href=\")[1].split('\"')[1]"
   ]
  },
  {
   "cell_type": "code",
   "execution_count": 6,
   "id": "94db2e32",
   "metadata": {},
   "outputs": [],
   "source": [
    "results_list = [str(result).split(\"href=\")[1].split('\"')[1] for result in results]"
   ]
  },
  {
   "cell_type": "code",
   "execution_count": 7,
   "id": "66a13247",
   "metadata": {},
   "outputs": [
    {
     "data": {
      "text/plain": [
       "['/api/datasets/Alabama_State_Data.zip',\n",
       " '/api/datasets/Arizona_State_Data.zip',\n",
       " '/api/datasets/Arkansas_State_Data.zip',\n",
       " '/api/datasets/California_State_Data.zip',\n",
       " '/api/datasets/Connecticut_State_Data.zip',\n",
       " '/api/datasets/Florida_State_Data.zip',\n",
       " '/api/datasets/Indiana_State_Data.zip',\n",
       " '/api/datasets/Minnesota_State_Data.zip',\n",
       " '/api/datasets/Missouri_State_Data.zip',\n",
       " '/api/datasets/New_York_State_Data.zip',\n",
       " '/api/datasets/North_Carolina_State_Data.zip',\n",
       " '/api/datasets/North_Dakota_State_Data.zip',\n",
       " '/api/datasets/Oregon_State_Data.zip',\n",
       " '/api/datasets/Pennsylvania_State_Data.zip',\n",
       " '/api/datasets/South_Dakota_State_Data.zip',\n",
       " '/api/datasets/Tennessee_State_Data.zip',\n",
       " '/api/datasets/Utah_State_Data.zip',\n",
       " '/api/datasets/Virginia_State_Data.zip',\n",
       " '/api/datasets/Washington_State_Data.zip',\n",
       " '/api/datasets/Wisconsin_State_Data.zip']"
      ]
     },
     "execution_count": 7,
     "metadata": {},
     "output_type": "execute_result"
    }
   ],
   "source": [
    "first_result = results_list[0]\n",
    "results_list\n"
   ]
  },
  {
   "cell_type": "code",
   "execution_count": 10,
   "id": "0186bb37",
   "metadata": {},
   "outputs": [
    {
     "ename": "NameError",
     "evalue": "name 'zip_file_url' is not defined",
     "output_type": "error",
     "traceback": [
      "\u001b[0;31m---------------------------------------------------------------------------\u001b[0m",
      "\u001b[0;31mNameError\u001b[0m                                 Traceback (most recent call last)",
      "\u001b[1;32m/Users/brianrennie/Documents/GitHub/police-data-trust/backend/scraper/notebooks/measures_for_justice.ipynb Cell 8'\u001b[0m in \u001b[0;36m<cell line: 2>\u001b[0;34m()\u001b[0m\n\u001b[1;32m      <a href='vscode-notebook-cell:/Users/brianrennie/Documents/GitHub/police-data-trust/backend/scraper/notebooks/measures_for_justice.ipynb#ch0000007?line=0'>1</a>\u001b[0m zip_data \u001b[39m=\u001b[39m requests\u001b[39m.\u001b[39mget(\u001b[39mf\u001b[39m\u001b[39m'\u001b[39m\u001b[39m{\u001b[39;00mdataset_path\u001b[39m}\u001b[39;00m\u001b[39m{\u001b[39;00mfirst_result\u001b[39m}\u001b[39;00m\u001b[39m'\u001b[39m)\n\u001b[0;32m----> <a href='vscode-notebook-cell:/Users/brianrennie/Documents/GitHub/police-data-trust/backend/scraper/notebooks/measures_for_justice.ipynb#ch0000007?line=1'>2</a>\u001b[0m r \u001b[39m=\u001b[39m requests\u001b[39m.\u001b[39mget(zip_file_url)\n\u001b[1;32m      <a href='vscode-notebook-cell:/Users/brianrennie/Documents/GitHub/police-data-trust/backend/scraper/notebooks/measures_for_justice.ipynb#ch0000007?line=2'>3</a>\u001b[0m z \u001b[39m=\u001b[39m zipfile\u001b[39m.\u001b[39mZipFile(io\u001b[39m.\u001b[39mBytesIO(r\u001b[39m.\u001b[39mcontent))\n\u001b[1;32m      <a href='vscode-notebook-cell:/Users/brianrennie/Documents/GitHub/police-data-trust/backend/scraper/notebooks/measures_for_justice.ipynb#ch0000007?line=3'>4</a>\u001b[0m z\u001b[39m.\u001b[39mextractall(pwd)\n",
      "\u001b[0;31mNameError\u001b[0m: name 'zip_file_url' is not defined"
     ]
    }
   ],
   "source": [
    "zip_data = requests.get(f'{dataset_path}{first_result}')\n",
    "r = requests.get(zip_file_url)\n",
    "z = zipfile.ZipFile(io.BytesIO(r.content))\n",
    "z.extractall(pwd)"
   ]
  },
  {
   "cell_type": "code",
   "execution_count": 1,
   "id": "dc8d6345",
   "metadata": {},
   "outputs": [
    {
     "ename": "NameError",
     "evalue": "name 'results_list' is not defined",
     "output_type": "error",
     "traceback": [
      "\u001b[0;31m---------------------------------------------------------------------------\u001b[0m",
      "\u001b[0;31mNameError\u001b[0m                                 Traceback (most recent call last)",
      "\u001b[1;32m/Users/brianrennie/Documents/GitHub/police-data-trust/backend/scraper/notebooks/measures_for_justice.ipynb Cell 1'\u001b[0m in \u001b[0;36m<cell line: 1>\u001b[0;34m()\u001b[0m\n\u001b[0;32m----> <a href='vscode-notebook-cell:/Users/brianrennie/Documents/GitHub/police-data-trust/backend/scraper/notebooks/measures_for_justice.ipynb#ch0000000?line=0'>1</a>\u001b[0m \u001b[39mfor\u001b[39;00m result \u001b[39min\u001b[39;00m results_list:\n\u001b[1;32m      <a href='vscode-notebook-cell:/Users/brianrennie/Documents/GitHub/police-data-trust/backend/scraper/notebooks/measures_for_justice.ipynb#ch0000000?line=1'>2</a>\u001b[0m     zip_data \u001b[39m=\u001b[39m requests\u001b[39m.\u001b[39mget(\u001b[39mf\u001b[39m\u001b[39m'\u001b[39m\u001b[39m{\u001b[39;00mdataset_path\u001b[39m}\u001b[39;00m\u001b[39m{\u001b[39;00mresult\u001b[39m}\u001b[39;00m\u001b[39m'\u001b[39m)\n\u001b[1;32m      <a href='vscode-notebook-cell:/Users/brianrennie/Documents/GitHub/police-data-trust/backend/scraper/notebooks/measures_for_justice.ipynb#ch0000000?line=2'>3</a>\u001b[0m     \u001b[39mopen\u001b[39m(result, \u001b[39m'\u001b[39m\u001b[39mwb\u001b[39m\u001b[39m'\u001b[39m)\u001b[39m.\u001b[39mwrite(r\u001b[39m.\u001b[39mcontent)\n",
      "\u001b[0;31mNameError\u001b[0m: name 'results_list' is not defined"
     ]
    }
   ],
   "source": [
    "for result in results_list:\n",
    "    zip_data = requests.get(f'{dataset_path}{result}')\n",
    "    open(result, 'wb').write(r.content)\n",
    "    z = zipfile.ZipFile(io.BytesIO(zip_data.content))\n",
    "    z.extractall(curDir)\n",
    "    print(zip_data)"
   ]
  },
  {
   "cell_type": "code",
   "execution_count": null,
   "id": "25e9f0ea",
   "metadata": {},
   "outputs": [],
   "source": []
  }
 ],
 "metadata": {
  "kernelspec": {
   "display_name": "Python 3.9.13 ('.pdt': venv)",
   "language": "python",
   "name": "python3"
  },
  "language_info": {
   "codemirror_mode": {
    "name": "ipython",
    "version": 3
   },
   "file_extension": ".py",
   "mimetype": "text/x-python",
   "name": "python",
   "nbconvert_exporter": "python",
   "pygments_lexer": "ipython3",
   "version": "3.9.13"
  },
  "vscode": {
   "interpreter": {
    "hash": "47c4521dfd0b677aadf842e1db7c0cfc67273c205cec7945eb2bb7409ec58d6a"
   }
  }
 },
 "nbformat": 4,
 "nbformat_minor": 5
}
