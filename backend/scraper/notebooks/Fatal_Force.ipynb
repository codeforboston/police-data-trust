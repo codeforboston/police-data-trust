{
 "cells": [
  {
   "cell_type": "code",
   "execution_count": 1,
   "id": "fdf0c47a",
   "metadata": {},
   "outputs": [],
   "source": [
    "import pandas as pd"
   ]
  },
  {
   "cell_type": "code",
   "execution_count": 5,
   "id": "fe13c728",
   "metadata": {},
   "outputs": [],
   "source": [
    "url = 'https://github.com/washingtonpost/data-police-shootings/releases/download/v0.1/fatal-police-shootings-data.csv'\n",
    "\n",
    "df = pd.read_csv(url)"
   ]
  },
  {
   "cell_type": "code",
   "execution_count": 6,
   "id": "0bcc3eec",
   "metadata": {},
   "outputs": [
    {
     "data": {
      "text/plain": [
       "Index(['id', 'name', 'date', 'manner_of_death', 'armed', 'age', 'gender',\n",
       "       'race', 'city', 'state', 'signs_of_mental_illness', 'threat_level',\n",
       "       'flee', 'body_camera', 'longitude', 'latitude', 'is_geocoding_exact'],\n",
       "      dtype='object')"
      ]
     },
     "execution_count": 6,
     "metadata": {},
     "output_type": "execute_result"
    }
   ],
   "source": [
    "df.columns"
   ]
  },
  {
   "cell_type": "code",
   "execution_count": 7,
   "id": "bc83a8dd",
   "metadata": {},
   "outputs": [],
   "source": [
    "def map_cols(df, m: dict):\n",
    "    return df[list(m.keys())].rename(columns=m)\n",
    "\n"
   ]
  },
  {
   "cell_type": "code",
   "execution_count": 11,
   "id": "79b9fd88",
   "metadata": {},
   "outputs": [],
   "source": [
    "def cols():\n",
    "    data = pd.read_csv(url, dtype={\"id\": str})\n",
    "    dataset = map_cols(data, \n",
    "    {\n",
    "        \"id\": \"source_id\",\n",
    "        \"name\": \"victim_name\",\n",
    "        \"gender\": \"victim_gender\",\n",
    "        \"race\": \"victim_race\",\n",
    "        \"age\": \"victim_age\",\n",
    "        \"manner_of_death\": \"manner_of_injury\",\n",
    "        \"date\": \"incident_date\",\n",
    "        \"city\": \"city\",\n",
    "        \"state\": \"state\",\n",
    "    },\n",
    "    ).set_index(\"source_id\", drop=False)\n",
    "\n",
    "\n",
    "    print(dataset.columns)\n",
    "    print(dataset.dtypes)\n",
    "    "
   ]
  },
  {
   "cell_type": "code",
   "execution_count": null,
   "id": "d5e51f4f",
   "metadata": {},
   "outputs": [],
   "source": []
  }
 ],
 "metadata": {
  "interpreter": {
   "hash": "40d3a090f54c6569ab1632332b64b2c03c39dcf918b08424e98f38b5ae0af88f"
  },
  "kernelspec": {
   "display_name": "Python 3.9.7 ('base')",
   "language": "python",
   "name": "python3"
  },
  "language_info": {
   "codemirror_mode": {
    "name": "ipython",
    "version": 3
   },
   "file_extension": ".py",
   "mimetype": "text/x-python",
   "name": "python",
   "nbconvert_exporter": "python",
   "pygments_lexer": "ipython3",
   "version": "3.9.7"
  }
 },
 "nbformat": 4,
 "nbformat_minor": 5
}
